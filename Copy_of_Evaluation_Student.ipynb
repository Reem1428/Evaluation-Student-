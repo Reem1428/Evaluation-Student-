{
  "nbformat": 4,
  "nbformat_minor": 0,
  "metadata": {
    "colab": {
      "provenance": []
    },
    "kernelspec": {
      "name": "python3",
      "display_name": "Python 3"
    },
    "language_info": {
      "name": "python"
    }
  },
  "cells": [
    {
      "cell_type": "code",
      "execution_count": null,
      "metadata": {
        "id": "qBq-Ur1GoIeI"
      },
      "outputs": [],
      "source": [
        "import pandas as pd\n",
        "from google.colab import files\n",
        "import io \n",
        "import numpy as np\n",
        "import seaborn as sns\n",
        "import matplotlib.pyplot as plt\n",
        "from patsy import dmatrices\n",
        "from statsmodels.stats.outliers_influence import variance_inflation_factor\n",
        "from sklearn.ensemble import ExtraTreesClassifier\n",
        "from sklearn import linear_model\n",
        "from sklearn.linear_model import LogisticRegression\n",
        "from sklearn.metrics import precision_score, recall_score, precision_recall_curve,f1_score, fbeta_score ,confusion_matrix\n",
        "\n",
        "import cvxopt\n",
        "from sklearn.model_selection import train_test_split\n",
        "from sklearn.svm import LinearSVC\n",
        "from sklearn.datasets import make_blobs\n",
        "import seaborn as sns\n",
        "from sklearn.preprocessing import StandardScaler\n",
        "from sklearn.svm import SVC\n",
        "from sklearn import metrics\n",
        "\n",
        "\n",
        "\n"
      ]
    },
    {
      "cell_type": "markdown",
      "source": [
        "**Uploaded Data**"
      ],
      "metadata": {
        "id": "pyC0wROXyMpB"
      }
    },
    {
      "cell_type": "code",
      "source": [
        "uploaded = files.upload()"
      ],
      "metadata": {
        "colab": {
          "base_uri": "https://localhost:8080/",
          "height": 74
        },
        "id": "nSvpEIB0oU4l",
        "outputId": "39d2c467-4917-47b9-8b1b-891c03c0178d"
      },
      "execution_count": null,
      "outputs": [
        {
          "output_type": "display_data",
          "data": {
            "text/plain": [
              "<IPython.core.display.HTML object>"
            ],
            "text/html": [
              "\n",
              "     <input type=\"file\" id=\"files-14331c60-cc21-4885-8790-89e75a270566\" name=\"files[]\" multiple disabled\n",
              "        style=\"border:none\" />\n",
              "     <output id=\"result-14331c60-cc21-4885-8790-89e75a270566\">\n",
              "      Upload widget is only available when the cell has been executed in the\n",
              "      current browser session. Please rerun this cell to enable.\n",
              "      </output>\n",
              "      <script>// Copyright 2017 Google LLC\n",
              "//\n",
              "// Licensed under the Apache License, Version 2.0 (the \"License\");\n",
              "// you may not use this file except in compliance with the License.\n",
              "// You may obtain a copy of the License at\n",
              "//\n",
              "//      http://www.apache.org/licenses/LICENSE-2.0\n",
              "//\n",
              "// Unless required by applicable law or agreed to in writing, software\n",
              "// distributed under the License is distributed on an \"AS IS\" BASIS,\n",
              "// WITHOUT WARRANTIES OR CONDITIONS OF ANY KIND, either express or implied.\n",
              "// See the License for the specific language governing permissions and\n",
              "// limitations under the License.\n",
              "\n",
              "/**\n",
              " * @fileoverview Helpers for google.colab Python module.\n",
              " */\n",
              "(function(scope) {\n",
              "function span(text, styleAttributes = {}) {\n",
              "  const element = document.createElement('span');\n",
              "  element.textContent = text;\n",
              "  for (const key of Object.keys(styleAttributes)) {\n",
              "    element.style[key] = styleAttributes[key];\n",
              "  }\n",
              "  return element;\n",
              "}\n",
              "\n",
              "// Max number of bytes which will be uploaded at a time.\n",
              "const MAX_PAYLOAD_SIZE = 100 * 1024;\n",
              "\n",
              "function _uploadFiles(inputId, outputId) {\n",
              "  const steps = uploadFilesStep(inputId, outputId);\n",
              "  const outputElement = document.getElementById(outputId);\n",
              "  // Cache steps on the outputElement to make it available for the next call\n",
              "  // to uploadFilesContinue from Python.\n",
              "  outputElement.steps = steps;\n",
              "\n",
              "  return _uploadFilesContinue(outputId);\n",
              "}\n",
              "\n",
              "// This is roughly an async generator (not supported in the browser yet),\n",
              "// where there are multiple asynchronous steps and the Python side is going\n",
              "// to poll for completion of each step.\n",
              "// This uses a Promise to block the python side on completion of each step,\n",
              "// then passes the result of the previous step as the input to the next step.\n",
              "function _uploadFilesContinue(outputId) {\n",
              "  const outputElement = document.getElementById(outputId);\n",
              "  const steps = outputElement.steps;\n",
              "\n",
              "  const next = steps.next(outputElement.lastPromiseValue);\n",
              "  return Promise.resolve(next.value.promise).then((value) => {\n",
              "    // Cache the last promise value to make it available to the next\n",
              "    // step of the generator.\n",
              "    outputElement.lastPromiseValue = value;\n",
              "    return next.value.response;\n",
              "  });\n",
              "}\n",
              "\n",
              "/**\n",
              " * Generator function which is called between each async step of the upload\n",
              " * process.\n",
              " * @param {string} inputId Element ID of the input file picker element.\n",
              " * @param {string} outputId Element ID of the output display.\n",
              " * @return {!Iterable<!Object>} Iterable of next steps.\n",
              " */\n",
              "function* uploadFilesStep(inputId, outputId) {\n",
              "  const inputElement = document.getElementById(inputId);\n",
              "  inputElement.disabled = false;\n",
              "\n",
              "  const outputElement = document.getElementById(outputId);\n",
              "  outputElement.innerHTML = '';\n",
              "\n",
              "  const pickedPromise = new Promise((resolve) => {\n",
              "    inputElement.addEventListener('change', (e) => {\n",
              "      resolve(e.target.files);\n",
              "    });\n",
              "  });\n",
              "\n",
              "  const cancel = document.createElement('button');\n",
              "  inputElement.parentElement.appendChild(cancel);\n",
              "  cancel.textContent = 'Cancel upload';\n",
              "  const cancelPromise = new Promise((resolve) => {\n",
              "    cancel.onclick = () => {\n",
              "      resolve(null);\n",
              "    };\n",
              "  });\n",
              "\n",
              "  // Wait for the user to pick the files.\n",
              "  const files = yield {\n",
              "    promise: Promise.race([pickedPromise, cancelPromise]),\n",
              "    response: {\n",
              "      action: 'starting',\n",
              "    }\n",
              "  };\n",
              "\n",
              "  cancel.remove();\n",
              "\n",
              "  // Disable the input element since further picks are not allowed.\n",
              "  inputElement.disabled = true;\n",
              "\n",
              "  if (!files) {\n",
              "    return {\n",
              "      response: {\n",
              "        action: 'complete',\n",
              "      }\n",
              "    };\n",
              "  }\n",
              "\n",
              "  for (const file of files) {\n",
              "    const li = document.createElement('li');\n",
              "    li.append(span(file.name, {fontWeight: 'bold'}));\n",
              "    li.append(span(\n",
              "        `(${file.type || 'n/a'}) - ${file.size} bytes, ` +\n",
              "        `last modified: ${\n",
              "            file.lastModifiedDate ? file.lastModifiedDate.toLocaleDateString() :\n",
              "                                    'n/a'} - `));\n",
              "    const percent = span('0% done');\n",
              "    li.appendChild(percent);\n",
              "\n",
              "    outputElement.appendChild(li);\n",
              "\n",
              "    const fileDataPromise = new Promise((resolve) => {\n",
              "      const reader = new FileReader();\n",
              "      reader.onload = (e) => {\n",
              "        resolve(e.target.result);\n",
              "      };\n",
              "      reader.readAsArrayBuffer(file);\n",
              "    });\n",
              "    // Wait for the data to be ready.\n",
              "    let fileData = yield {\n",
              "      promise: fileDataPromise,\n",
              "      response: {\n",
              "        action: 'continue',\n",
              "      }\n",
              "    };\n",
              "\n",
              "    // Use a chunked sending to avoid message size limits. See b/62115660.\n",
              "    let position = 0;\n",
              "    do {\n",
              "      const length = Math.min(fileData.byteLength - position, MAX_PAYLOAD_SIZE);\n",
              "      const chunk = new Uint8Array(fileData, position, length);\n",
              "      position += length;\n",
              "\n",
              "      const base64 = btoa(String.fromCharCode.apply(null, chunk));\n",
              "      yield {\n",
              "        response: {\n",
              "          action: 'append',\n",
              "          file: file.name,\n",
              "          data: base64,\n",
              "        },\n",
              "      };\n",
              "\n",
              "      let percentDone = fileData.byteLength === 0 ?\n",
              "          100 :\n",
              "          Math.round((position / fileData.byteLength) * 100);\n",
              "      percent.textContent = `${percentDone}% done`;\n",
              "\n",
              "    } while (position < fileData.byteLength);\n",
              "  }\n",
              "\n",
              "  // All done.\n",
              "  yield {\n",
              "    response: {\n",
              "      action: 'complete',\n",
              "    }\n",
              "  };\n",
              "}\n",
              "\n",
              "scope.google = scope.google || {};\n",
              "scope.google.colab = scope.google.colab || {};\n",
              "scope.google.colab._files = {\n",
              "  _uploadFiles,\n",
              "  _uploadFilesContinue,\n",
              "};\n",
              "})(self);\n",
              "</script> "
            ]
          },
          "metadata": {}
        },
        {
          "output_type": "stream",
          "name": "stdout",
          "text": [
            "Saving student-performance.csv to student-performance (1).csv\n"
          ]
        }
      ]
    },
    {
      "cell_type": "code",
      "source": [
        "df = pd.read_csv(io.BytesIO(uploaded['student-performance.csv']))"
      ],
      "metadata": {
        "id": "lekmEqEpoYwP"
      },
      "execution_count": null,
      "outputs": []
    },
    {
      "cell_type": "code",
      "source": [
        "sns.boxplot(x='sex',y='G3',data=df)"
      ],
      "metadata": {
        "colab": {
          "base_uri": "https://localhost:8080/",
          "height": 297
        },
        "id": "NkfK1UCMUpqF",
        "outputId": "96118dd1-275f-4e5c-c858-68724e318207"
      },
      "execution_count": null,
      "outputs": [
        {
          "output_type": "execute_result",
          "data": {
            "text/plain": [
              "<Axes: xlabel='sex', ylabel='G3'>"
            ]
          },
          "metadata": {},
          "execution_count": 9
        },
        {
          "output_type": "display_data",
          "data": {
            "text/plain": [
              "<Figure size 432x288 with 1 Axes>"
            ],
            "image/png": "[encoded data removed]"
          },
          "metadata": {
            "needs_background": "light"
          }
        }
      ]
    },
    {
      "cell_type": "code",
      "source": [
        "sns.boxplot(x='Medu',y='G3',data=df)"
      ],
      "metadata": {
        "colab": {
          "base_uri": "https://localhost:8080/",
          "height": 297
        },
        "id": "3_N1d2FnUuEY",
        "outputId": "94b829e1-c1e6-4a3a-9a20-05a386d368d7"
      },
      "execution_count": null,
      "outputs": [
        {
          "output_type": "execute_result",
          "data": {
            "text/plain": [
              "<Axes: xlabel='Medu', ylabel='G3'>"
            ]
          },
          "metadata": {},
          "execution_count": 10
        },
        {
          "output_type": "display_data",
          "data": {
            "text/plain": [
              "<Figure size 432x288 with 1 Axes>"
            ],
            "image/png": "[encoded data removed]"
          },
          "metadata": {
            "needs_background": "light"
          }
        }
      ]
    },
    {
      "cell_type": "code",
      "source": [
        "sns.boxplot(x='Fedu',y='G3',data=df)"
      ],
      "metadata": {
        "colab": {
          "base_uri": "https://localhost:8080/",
          "height": 297
        },
        "id": "n-wnjZLgU77m",
        "outputId": "d153f4a1-e9c0-4512-b8fe-60666435d6ae"
      },
      "execution_count": null,
      "outputs": [
        {
          "output_type": "execute_result",
          "data": {
            "text/plain": [
              "<Axes: xlabel='Fedu', ylabel='G3'>"
            ]
          },
          "metadata": {},
          "execution_count": 16
        },
        {
          "output_type": "display_data",
          "data": {
            "text/plain": [
              "<Figure size 432x288 with 1 Axes>"
            ],
            "image/png": "[encoded data removed]"
          },
          "metadata": {
            "needs_background": "light"
          }
        }
      ]
    },
    {
      "cell_type": "code",
      "source": [
        "df.groupby(['freetime'])['G3'].describe()"
      ],
      "metadata": {
        "colab": {
          "base_uri": "https://localhost:8080/",
          "height": 238
        },
        "id": "c4aoyDliVLfP",
        "outputId": "c71c028f-6fd7-4e67-b5db-795c9923a42d"
      },
      "execution_count": null,
      "outputs": [
        {
          "output_type": "execute_result",
          "data": {
            "text/plain": [
              "          count       mean       std  min   25%   50%   75%   max\n",
              "freetime                                                         \n",
              "1          64.0  11.171875  3.401935  0.0  10.0  11.0  13.0  19.0\n",
              "2         171.0  12.280702  3.790488  0.0  11.0  13.0  15.0  20.0\n",
              "3         408.0  11.183824  3.965209  0.0  10.0  11.0  14.0  19.0\n",
              "4         293.0  11.208191  3.662238  0.0  10.0  11.0  14.0  19.0\n",
              "5         108.0  10.916667  4.218617  0.0   9.0  11.0  14.0  19.0"
            ],
            "text/html": [
              "\n",
              "  <div id=\"df-a04e6bd0-9d50-474c-83a5-f683581377a4\">\n",
              "    <div class=\"colab-df-container\">\n",
              "      <div>\n",
              "<style scoped>\n",
              "    .dataframe tbody tr th:only-of-type {\n",
              "        vertical-align: middle;\n",
              "    }\n",
              "\n",
              "    .dataframe tbody tr th {\n",
              "        vertical-align: top;\n",
              "    }\n",
              "\n",
              "    .dataframe thead th {\n",
              "        text-align: right;\n",
              "    }\n",
              "</style>\n",
              "<table border=\"1\" class=\"dataframe\">\n",
              "  <thead>\n",
              "    <tr style=\"text-align: right;\">\n",
              "      <th></th>\n",
              "      <th>count</th>\n",
              "      <th>mean</th>\n",
              "      <th>std</th>\n",
              "      <th>min</th>\n",
              "      <th>25%</th>\n",
              "      <th>50%</th>\n",
              "      <th>75%</th>\n",
              "      <th>max</th>\n",
              "    </tr>\n",
              "    <tr>\n",
              "      <th>freetime</th>\n",
              "      <th></th>\n",
              "      <th></th>\n",
              "      <th></th>\n",
              "      <th></th>\n",
              "      <th></th>\n",
              "      <th></th>\n",
              "      <th></th>\n",
              "      <th></th>\n",
              "    </tr>\n",
              "  </thead>\n",
              "  <tbody>\n",
              "    <tr>\n",
              "      <th>1</th>\n",
              "      <td>64.0</td>\n",
              "      <td>11.171875</td>\n",
              "      <td>3.401935</td>\n",
              "      <td>0.0</td>\n",
              "      <td>10.0</td>\n",
              "      <td>11.0</td>\n",
              "      <td>13.0</td>\n",
              "      <td>19.0</td>\n",
              "    </tr>\n",
              "    <tr>\n",
              "      <th>2</th>\n",
              "      <td>171.0</td>\n",
              "      <td>12.280702</td>\n",
              "      <td>3.790488</td>\n",
              "      <td>0.0</td>\n",
              "      <td>11.0</td>\n",
              "      <td>13.0</td>\n",
              "      <td>15.0</td>\n",
              "      <td>20.0</td>\n",
              "    </tr>\n",
              "    <tr>\n",
              "      <th>3</th>\n",
              "      <td>408.0</td>\n",
              "      <td>11.183824</td>\n",
              "      <td>3.965209</td>\n",
              "      <td>0.0</td>\n",
              "      <td>10.0</td>\n",
              "      <td>11.0</td>\n",
              "      <td>14.0</td>\n",
              "      <td>19.0</td>\n",
              "    </tr>\n",
              "    <tr>\n",
              "      <th>4</th>\n",
              "      <td>293.0</td>\n",
              "      <td>11.208191</td>\n",
              "      <td>3.662238</td>\n",
              "      <td>0.0</td>\n",
              "      <td>10.0</td>\n",
              "      <td>11.0</td>\n",
              "      <td>14.0</td>\n",
              "      <td>19.0</td>\n",
              "    </tr>\n",
              "    <tr>\n",
              "      <th>5</th>\n",
              "      <td>108.0</td>\n",
              "      <td>10.916667</td>\n",
              "      <td>4.218617</td>\n",
              "      <td>0.0</td>\n",
              "      <td>9.0</td>\n",
              "      <td>11.0</td>\n",
              "      <td>14.0</td>\n",
              "      <td>19.0</td>\n",
              "    </tr>\n",
              "  </tbody>\n",
              "</table>\n",
              "</div>\n",
              "      <button class=\"colab-df-convert\" onclick=\"convertToInteractive('df-a04e6bd0-9d50-474c-83a5-f683581377a4')\"\n",
              "              title=\"Convert this dataframe to an interactive table.\"\n",
              "              style=\"display:none;\">\n",
              "        \n",
              "  <svg xmlns=\"http://www.w3.org/2000/svg\" height=\"24px\"viewBox=\"0 0 24 24\"\n",
              "       width=\"24px\">\n",
              "    <path d=\"M0 0h24v24H0V0z\" fill=\"none\"/>\n",
              "    <path d=\"M18.56 5.44l.94 2.06.94-2.06 2.06-.94-2.06-.94-.94-2.06-.94 2.06-2.06.94zm-11 1L8.5 8.5l.94-2.06 2.06-.94-2.06-.94L8.5 2.5l-.94 2.06-2.06.94zm10 10l.94 2.06.94-2.06 2.06-.94-2.06-.94-.94-2.06-.94 2.06-2.06.94z\"/><path d=\"M17.41 7.96l-1.37-1.37c-.4-.4-.92-.59-1.43-.59-.52 0-1.04.2-1.43.59L10.3 9.45l-7.72 7.72c-.78.78-.78 2.05 0 2.83L4 21.41c.39.39.9.59 1.41.59.51 0 1.02-.2 1.41-.59l7.78-7.78 2.81-2.81c.8-.78.8-2.07 0-2.86zM5.41 20L4 18.59l7.72-7.72 1.47 1.35L5.41 20z\"/>\n",
              "  </svg>\n",
              "      </button>\n",
              "      \n",
              "  <style>\n",
              "    .colab-df-container {\n",
              "      display:flex;\n",
              "      flex-wrap:wrap;\n",
              "      gap: 12px;\n",
              "    }\n",
              "\n",
              "    .colab-df-convert {\n",
              "      background-color: #E8F0FE;\n",
              "      border: none;\n",
              "      border-radius: 50%;\n",
              "      cursor: pointer;\n",
              "      display: none;\n",
              "      fill: #1967D2;\n",
              "      height: 32px;\n",
              "      padding: 0 0 0 0;\n",
              "      width: 32px;\n",
              "    }\n",
              "\n",
              "    .colab-df-convert:hover {\n",
              "      background-color: #E2EBFA;\n",
              "      box-shadow: 0px 1px 2px rgba(60, 64, 67, 0.3), 0px 1px 3px 1px rgba(60, 64, 67, 0.15);\n",
              "      fill: #174EA6;\n",
              "    }\n",
              "\n",
              "    [theme=dark] .colab-df-convert {\n",
              "      background-color: #3B4455;\n",
              "      fill: #D2E3FC;\n",
              "    }\n",
              "\n",
              "    [theme=dark] .colab-df-convert:hover {\n",
              "      background-color: #434B5C;\n",
              "      box-shadow: 0px 1px 3px 1px rgba(0, 0, 0, 0.15);\n",
              "      filter: drop-shadow(0px 1px 2px rgba(0, 0, 0, 0.3));\n",
              "      fill: #FFFFFF;\n",
              "    }\n",
              "  </style>\n",
              "\n",
              "      <script>\n",
              "        const buttonEl =\n",
              "          document.querySelector('#df-a04e6bd0-9d50-474c-83a5-f683581377a4 button.colab-df-convert');\n",
              "        buttonEl.style.display =\n",
              "          google.colab.kernel.accessAllowed ? 'block' : 'none';\n",
              "\n",
              "        async function convertToInteractive(key) {\n",
              "          const element = document.querySelector('#df-a04e6bd0-9d50-474c-83a5-f683581377a4');\n",
              "          const dataTable =\n",
              "            await google.colab.kernel.invokeFunction('convertToInteractive',\n",
              "                                                     [key], {});\n",
              "          if (!dataTable) return;\n",
              "\n",
              "          const docLinkHtml = 'Like what you see? Visit the ' +\n",
              "            '<a target=\"_blank\" href=https://colab.research.google.com/notebooks/data_table.ipynb>data table notebook</a>'\n",
              "            + ' to learn more about interactive tables.';\n",
              "          element.innerHTML = '';\n",
              "          dataTable['output_type'] = 'display_data';\n",
              "          await google.colab.output.renderOutput(dataTable, element);\n",
              "          const docLink = document.createElement('div');\n",
              "          docLink.innerHTML = docLinkHtml;\n",
              "          element.appendChild(docLink);\n",
              "        }\n",
              "      </script>\n",
              "    </div>\n",
              "  </div>\n",
              "  "
            ]
          },
          "metadata": {},
          "execution_count": 15
        }
      ]
    },
    {
      "cell_type": "code",
      "source": [
        "df['subject'] = df['subject'].apply(lambda x: 1 if x == 'Language' else 2)\n",
        "df['sex'] = df['sex'].apply(lambda x: 1 if x == 'M' else 2)\n",
        "df['address'] = df['address'].apply(lambda x: 1 if x == 'U' else 2)\n",
        "df['famsize'] = df['famsize'].apply(lambda x: 1 if x == 'GT3' else 2)\n",
        "df['Pstatus'] = df['Pstatus'].apply(lambda x: 1 if x == 'T' else 2)\n",
        "df['schoolsup'] = df['schoolsup'].apply(lambda x: 1 if x == 'yes' else 2)\n",
        "df['paid'] = df['paid'].apply(lambda x: 1 if x == 'yes' else 2)\n",
        "df['famsup'] = df['famsup'].apply(lambda x: 1 if x == 'yes' else 2)\n",
        "df['activities'] = df['activities'].apply(lambda x: 1 if x == 'yes' else 2)\n",
        "df['nursery'] = df['nursery'].apply(lambda x: 1 if x == 'yes' else 2)\n",
        "df['higher'] = df['higher'].apply(lambda x: 1 if x == 'yes' else 2)\n",
        "df['internet'] = df['internet'].apply(lambda x: 1 if x == 'yes' else 2)\n",
        "df['guardian'] = df['guardian'].apply(lambda x: 1 if x == 'father' else 2 if x == 'mother' else 3 )\n",
        "df['reason'] = df['reason'].apply(lambda x: 1 if x == 'course' else 2 if x == 'home' else 3 if x == 'reputation' else 4 )\n",
        "df['Fjob'] = df['Fjob'].apply(lambda x: 1 if x == 'services' else 2 if x == 'teacher' else 3 if x == 'health' else 4 if x == 'at_home' else 5)\n",
        "df['Mjob'] = df['Mjob'].apply(lambda x: 1 if x == 'services' else 2 if x == 'teacher' else 3 if x == 'health' else 4 if x == 'at_home' else 5)\n",
        "df['Pass'] = df['G3'].apply(lambda x: 1 if x >= 10 else 0 )\n"
      ],
      "metadata": {
        "id": "IpD6dhia6FL-"
      },
      "execution_count": null,
      "outputs": []
    },
    {
      "cell_type": "code",
      "source": [
        "df2 = df.drop('G3', axis=1)\n",
        "df2 = df2.drop('Pass', axis=1)\n"
      ],
      "metadata": {
        "id": "O5WC-qMw_Cbk"
      },
      "execution_count": null,
      "outputs": []
    },
    {
      "cell_type": "markdown",
      "source": [
        "**multicollinearity test**"
      ],
      "metadata": {
        "id": "eVoUb927yaL1"
      }
    },
    {
      "cell_type": "code",
      "source": [
        "X = df2\n",
        "\n",
        "# VIF dataframe\n",
        "vif_data = pd.DataFrame()\n",
        "vif_data[\"feature\"] = X.columns\n",
        "vif_data[\"VIF\"] = [variance_inflation_factor(X.values, i)\n",
        "                          for i in range(len(X.columns))]\n",
        "  \n",
        "print(vif_data)"
      ],
      "metadata": {
        "colab": {
          "base_uri": "https://localhost:8080/"
        },
        "id": "u4KU16iZ_epM",
        "outputId": "889b62d5-803f-41b2-89a1-3d8400852d04"
      },
      "execution_count": null,
      "outputs": [
        {
          "output_type": "stream",
          "name": "stdout",
          "text": [
            "       feature         VIF\n",
            "0      subject   11.542694\n",
            "1          sex   12.756984\n",
            "2          age  167.151319\n",
            "3      address   10.952179\n",
            "4      famsize    9.805427\n",
            "5      Pstatus   14.742595\n",
            "6         Medu   12.828238\n",
            "7         Fedu   10.490270\n",
            "8         Mjob    6.974525\n",
            "9         Fjob    5.792841\n",
            "10      reason    5.067813\n",
            "11    guardian   15.726641\n",
            "12  traveltime    6.431530\n",
            "13   studytime    7.861535\n",
            "14    failures    1.584732\n",
            "15   schoolsup   39.880752\n",
            "16      famsup   10.365059\n",
            "17        paid   26.033500\n",
            "18  activities   10.729415\n",
            "19     nursery   10.227472\n",
            "20      higher   19.584488\n",
            "21    internet   11.244971\n",
            "22      famrel   19.190519\n",
            "23    freetime   12.681027\n",
            "24       goout   10.011046\n",
            "25      health    7.524967\n",
            "26    absences    1.687595\n",
            "27          G1   62.202019\n",
            "28          G2   50.889056\n"
          ]
        }
      ]
    },
    {
      "cell_type": "markdown",
      "source": [
        "**Feature importance**"
      ],
      "metadata": {
        "id": "G_HBjR_h0ugA"
      }
    },
    {
      "cell_type": "code",
      "source": [
        "x= df2\n",
        "y = df['Pass']\n",
        "model = ExtraTreesClassifier()\n",
        "model.fit(X,y)\n",
        "plt.figure(figsize=(14,9))\n",
        "plt.title(\"Feature importance chart\")\n",
        "feat_importances = pd.Series(model.feature_importances_, index=X.columns)\n",
        "feat_importances.nlargest(28).plot(kind='barh')\n",
        "plt.show()"
      ],
      "metadata": {
        "colab": {
          "base_uri": "https://localhost:8080/",
          "height": 498
        },
        "id": "GHu5ytx4wHks",
        "outputId": "1413b65f-bb26-4f87-f550-eb5ef25181d7"
      },
      "execution_count": null,
      "outputs": [
        {
          "output_type": "display_data",
          "data": {
            "text/plain": [
              "<Figure size 1008x648 with 1 Axes>"
            ],
            "image/png": "[encoded data removed]"
          },
          "metadata": {
            "needs_background": "light"
          }
        }
      ]
    },
    {
      "cell_type": "code",
      "source": [
        "plt.figure(figsize=(14,9))\n",
        "correlation = df.corr ()  \n",
        "sns.heatmap (correlation) "
      ],
      "metadata": {
        "colab": {
          "base_uri": "https://localhost:8080/",
          "height": 582
        },
        "id": "a-2fpINwDjui",
        "outputId": "481514f9-ca8d-4c61-e659-2ec22ad88684"
      },
      "execution_count": null,
      "outputs": [
        {
          "output_type": "execute_result",
          "data": {
            "text/plain": [
              "<Axes: >"
            ]
          },
          "metadata": {},
          "execution_count": 20
        },
        {
          "output_type": "display_data",
          "data": {
            "text/plain": [
              "<Figure size 1008x648 with 2 Axes>"
            ],
            "image/png": "[encoded data removed]"
          },
          "metadata": {
            "needs_background": "light"
          }
        }
      ]
    },
    {
      "cell_type": "code",
      "source": [
        "DFS = df[['age', 'Medu','Fedu', 'traveltime', 'studytime',\n",
        "         'famrel', 'freetime', 'goout', 'health',\n",
        "       'absences', 'failures','G1', 'G2' ,'Pass']]\n"
      ],
      "metadata": {
        "id": "O3J5eg573sxr"
      },
      "execution_count": null,
      "outputs": []
    },
    {
      "cell_type": "markdown",
      "source": [
        "**Algorithm 1: LinearRegression**"
      ],
      "metadata": {
        "id": "p4AnS6EOeZ1m"
      }
    },
    {
      "cell_type": "code",
      "source": [
        "DFSL = df[['age', 'Medu','Fedu', 'traveltime', 'studytime',\n",
        "         'famrel', 'freetime', 'goout', 'health',\n",
        "       'absences', 'failures','G1', 'G2' ,'G3']]\n"
      ],
      "metadata": {
        "id": "vB82R5AcfcEm"
      },
      "execution_count": null,
      "outputs": []
    },
    {
      "cell_type": "code",
      "source": [
        "from sklearn.model_selection import train_test_split\n",
        "regr = linear_model.LinearRegression()\n",
        "x, y = DFSL.drop('G3',axis=1), DFSL['G3']\n",
        "x, x_test, y, y_test = train_test_split(x, y, test_size=.2, random_state=10)\n",
        "x_train, x_val, y_train, y_val = train_test_split(x, y, test_size=.25, random_state=3)\n",
        "regr.fit(x_train, y_train)\n",
        "#print(f'Linear Regression val R^2: {regr.score(x_val, y_val):.3f}')\n",
        "regr.fit(x_train, y_train)\n",
        "print(regr.score(x_train, y_train))\n",
        "regr.fit(x_val, y_val)\n",
        "print(regr.score(x_val, y_val))\n",
        "regr.fit(x_test, y_test)\n",
        "print(regr.score(x_test, y_test))"
      ],
      "metadata": {
        "colab": {
          "base_uri": "https://localhost:8080/"
        },
        "id": "Nj1JiXQue4si",
        "outputId": "dc3c5b12-83e2-4af3-a26d-0835f47bb29b"
      },
      "execution_count": null,
      "outputs": [
        {
          "output_type": "stream",
          "name": "stdout",
          "text": [
            "0.8429240559060498\n",
            "0.8542122636691802\n",
            "0.821815089059527\n"
          ]
        }
      ]
    },
    {
      "cell_type": "markdown",
      "source": [
        "**Algorithm 2 :Logistic Regression **"
      ],
      "metadata": {
        "id": "4D4YU1B3gGu3"
      }
    },
    {
      "cell_type": "code",
      "source": [
        "\n",
        "X, Y = DFS.drop('Pass',axis=1), DFS['Pass']\n",
        "X, X_test, Y, Y_test = train_test_split(X, Y, test_size=.2, random_state=10)\n",
        "X_train, X_val, Y_train, Y_val = train_test_split(X, Y, test_size=.25, random_state=3)"
      ],
      "metadata": {
        "id": "UviSxcGPG7zM"
      },
      "execution_count": null,
      "outputs": []
    },
    {
      "cell_type": "code",
      "source": [
        "from sklearn.model_selection import GridSearchCV\n",
        "weights = np.linspace(0.05, 0.95, 20)\n",
        "\n",
        "gsc = GridSearchCV(\n",
        "    estimator=LogisticRegression(),\n",
        "    param_grid={\n",
        "        'class_weight': [{0: x, 1: 1.0-x} for x in weights]\n",
        "    },\n",
        "    scoring='f1',\n",
        "    cv=3\n",
        ")\n",
        "grid_result = gsc.fit(X_train ,Y_train)\n",
        "\n",
        "print(\"Best parameters : %s\" % grid_result.best_params_)\n",
        "Logistic = LogisticRegression(random_state=10,**grid_result.best_params_) \n",
        "Logistic.fit(X_train , Y_train)\n",
        "print('f1_score for train: ',f1_score(Logistic.predict(X_train), Y_train))\n",
        "print('f1_score for validation: ',f1_score(Y_val, Logistic.predict(X_val)))\n",
        "print('f1_score for test: ',f1_score(Logistic.predict(X_test), Y_test))\n",
        "print(\"Logistic confusion matrix: \\n\\n\", confusion_matrix(Y_train, Logistic.predict(X_train)))\n",
        "print(\"Logstic precision: \\n\\n\", precision_score(Y_train, Logistic.predict(X_train)))\n",
        "print(\"Logstic recall: \\n\\n\", recall_score(Y_train, Logistic.predict(X_train)))\n",
        "print(\"Logistic confusion matrix: \\n\\n\", confusion_matrix(Y_val, Logistic.predict(X_val)))\n",
        "print(\"Logstic precision: \\n\\n\", precision_score(Y_val, Logistic.predict(X_val)))\n",
        "print(\"Logstic recall: \\n\\n\", recall_score(Y_val, Logistic.predict(X_val)))\n",
        "print(\"Logistic confusion matrix: \\n\\n\", confusion_matrix(Y_test, Logistic.predict(X_test)))\n",
        "print(\"Logstic precision: \\n\\n\", precision_score(Y_test, Logistic.predict(X_test)))\n",
        "print(\"Logstic recall: \\n\\n\", recall_score(Y_test, Logistic.predict(X_test)))"
      ],
      "metadata": {
        "colab": {
          "base_uri": "https://localhost:8080/"
        },
        "id": "GjYIz7Tdg5i0",
        "outputId": "380e42f8-4e43-498b-ffc9-ce43e866320c"
      },
      "execution_count": null,
      "outputs": [
        {
          "output_type": "stream",
          "name": "stderr",
          "text": [
            "/usr/local/lib/python3.9/dist-packages/sklearn/linear_model/_logistic.py:458: ConvergenceWarning: lbfgs failed to converge (status=1):\n",
            "STOP: TOTAL NO. of ITERATIONS REACHED LIMIT.\n",
            "\n",
            "Increase the number of iterations (max_iter) or scale the data as shown in:\n",
            "    https://scikit-learn.org/stable/modules/preprocessing.html\n",
            "Please also refer to the documentation for alternative solver options:\n",
            "    https://scikit-learn.org/stable/modules/linear_model.html#logistic-regression\n",
            "  n_iter_i = _check_optimize_result(\n",
            "/usr/local/lib/python3.9/dist-packages/sklearn/linear_model/_logistic.py:458: ConvergenceWarning: lbfgs failed to converge (status=1):\n",
            "STOP: TOTAL NO. of ITERATIONS REACHED LIMIT.\n",
            "\n",
            "Increase the number of iterations (max_iter) or scale the data as shown in:\n",
            "    https://scikit-learn.org/stable/modules/preprocessing.html\n",
            "Please also refer to the documentation for alternative solver options:\n",
            "    https://scikit-learn.org/stable/modules/linear_model.html#logistic-regression\n",
            "  n_iter_i = _check_optimize_result(\n",
            "/usr/local/lib/python3.9/dist-packages/sklearn/linear_model/_logistic.py:458: ConvergenceWarning: lbfgs failed to converge (status=1):\n",
            "STOP: TOTAL NO. of ITERATIONS REACHED LIMIT.\n",
            "\n",
            "Increase the number of iterations (max_iter) or scale the data as shown in:\n",
            "    https://scikit-learn.org/stable/modules/preprocessing.html\n",
            "Please also refer to the documentation for alternative solver options:\n",
            "    https://scikit-learn.org/stable/modules/linear_model.html#logistic-regression\n",
            "  n_iter_i = _check_optimize_result(\n",
            "/usr/local/lib/python3.9/dist-packages/sklearn/linear_model/_logistic.py:458: ConvergenceWarning: lbfgs failed to converge (status=1):\n",
            "STOP: TOTAL NO. of ITERATIONS REACHED LIMIT.\n",
            "\n",
            "Increase the number of iterations (max_iter) or scale the data as shown in:\n",
            "    https://scikit-learn.org/stable/modules/preprocessing.html\n",
            "Please also refer to the documentation for alternative solver options:\n",
            "    https://scikit-learn.org/stable/modules/linear_model.html#logistic-regression\n",
            "  n_iter_i = _check_optimize_result(\n",
            "/usr/local/lib/python3.9/dist-packages/sklearn/linear_model/_logistic.py:458: ConvergenceWarning: lbfgs failed to converge (status=1):\n",
            "STOP: TOTAL NO. of ITERATIONS REACHED LIMIT.\n",
            "\n",
            "Increase the number of iterations (max_iter) or scale the data as shown in:\n",
            "    https://scikit-learn.org/stable/modules/preprocessing.html\n",
            "Please also refer to the documentation for alternative solver options:\n",
            "    https://scikit-learn.org/stable/modules/linear_model.html#logistic-regression\n",
            "  n_iter_i = _check_optimize_result(\n",
            "/usr/local/lib/python3.9/dist-packages/sklearn/linear_model/_logistic.py:458: ConvergenceWarning: lbfgs failed to converge (status=1):\n",
            "STOP: TOTAL NO. of ITERATIONS REACHED LIMIT.\n",
            "\n",
            "Increase the number of iterations (max_iter) or scale the data as shown in:\n",
            "    https://scikit-learn.org/stable/modules/preprocessing.html\n",
            "Please also refer to the documentation for alternative solver options:\n",
            "    https://scikit-learn.org/stable/modules/linear_model.html#logistic-regression\n",
            "  n_iter_i = _check_optimize_result(\n",
            "/usr/local/lib/python3.9/dist-packages/sklearn/linear_model/_logistic.py:458: ConvergenceWarning: lbfgs failed to converge (status=1):\n",
            "STOP: TOTAL NO. of ITERATIONS REACHED LIMIT.\n",
            "\n",
            "Increase the number of iterations (max_iter) or scale the data as shown in:\n",
            "    https://scikit-learn.org/stable/modules/preprocessing.html\n",
            "Please also refer to the documentation for alternative solver options:\n",
            "    https://scikit-learn.org/stable/modules/linear_model.html#logistic-regression\n",
            "  n_iter_i = _check_optimize_result(\n",
            "/usr/local/lib/python3.9/dist-packages/sklearn/linear_model/_logistic.py:458: ConvergenceWarning: lbfgs failed to converge (status=1):\n",
            "STOP: TOTAL NO. of ITERATIONS REACHED LIMIT.\n",
            "\n",
            "Increase the number of iterations (max_iter) or scale the data as shown in:\n",
            "    https://scikit-learn.org/stable/modules/preprocessing.html\n",
            "Please also refer to the documentation for alternative solver options:\n",
            "    https://scikit-learn.org/stable/modules/linear_model.html#logistic-regression\n",
            "  n_iter_i = _check_optimize_result(\n",
            "/usr/local/lib/python3.9/dist-packages/sklearn/linear_model/_logistic.py:458: ConvergenceWarning: lbfgs failed to converge (status=1):\n",
            "STOP: TOTAL NO. of ITERATIONS REACHED LIMIT.\n",
            "\n",
            "Increase the number of iterations (max_iter) or scale the data as shown in:\n",
            "    https://scikit-learn.org/stable/modules/preprocessing.html\n",
            "Please also refer to the documentation for alternative solver options:\n",
            "    https://scikit-learn.org/stable/modules/linear_model.html#logistic-regression\n",
            "  n_iter_i = _check_optimize_result(\n",
            "/usr/local/lib/python3.9/dist-packages/sklearn/linear_model/_logistic.py:458: ConvergenceWarning: lbfgs failed to converge (status=1):\n",
            "STOP: TOTAL NO. of ITERATIONS REACHED LIMIT.\n",
            "\n",
            "Increase the number of iterations (max_iter) or scale the data as shown in:\n",
            "    https://scikit-learn.org/stable/modules/preprocessing.html\n",
            "Please also refer to the documentation for alternative solver options:\n",
            "    https://scikit-learn.org/stable/modules/linear_model.html#logistic-regression\n",
            "  n_iter_i = _check_optimize_result(\n",
            "/usr/local/lib/python3.9/dist-packages/sklearn/linear_model/_logistic.py:458: ConvergenceWarning: lbfgs failed to converge (status=1):\n",
            "STOP: TOTAL NO. of ITERATIONS REACHED LIMIT.\n",
            "\n",
            "Increase the number of iterations (max_iter) or scale the data as shown in:\n",
            "    https://scikit-learn.org/stable/modules/preprocessing.html\n",
            "Please also refer to the documentation for alternative solver options:\n",
            "    https://scikit-learn.org/stable/modules/linear_model.html#logistic-regression\n",
            "  n_iter_i = _check_optimize_result(\n",
            "/usr/local/lib/python3.9/dist-packages/sklearn/linear_model/_logistic.py:458: ConvergenceWarning: lbfgs failed to converge (status=1):\n",
            "STOP: TOTAL NO. of ITERATIONS REACHED LIMIT.\n",
            "\n",
            "Increase the number of iterations (max_iter) or scale the data as shown in:\n",
            "    https://scikit-learn.org/stable/modules/preprocessing.html\n",
            "Please also refer to the documentation for alternative solver options:\n",
            "    https://scikit-learn.org/stable/modules/linear_model.html#logistic-regression\n",
            "  n_iter_i = _check_optimize_result(\n",
            "/usr/local/lib/python3.9/dist-packages/sklearn/linear_model/_logistic.py:458: ConvergenceWarning: lbfgs failed to converge (status=1):\n",
            "STOP: TOTAL NO. of ITERATIONS REACHED LIMIT.\n",
            "\n",
            "Increase the number of iterations (max_iter) or scale the data as shown in:\n",
            "    https://scikit-learn.org/stable/modules/preprocessing.html\n",
            "Please also refer to the documentation for alternative solver options:\n",
            "    https://scikit-learn.org/stable/modules/linear_model.html#logistic-regression\n",
            "  n_iter_i = _check_optimize_result(\n",
            "/usr/local/lib/python3.9/dist-packages/sklearn/linear_model/_logistic.py:458: ConvergenceWarning: lbfgs failed to converge (status=1):\n",
            "STOP: TOTAL NO. of ITERATIONS REACHED LIMIT.\n",
            "\n",
            "Increase the number of iterations (max_iter) or scale the data as shown in:\n",
            "    https://scikit-learn.org/stable/modules/preprocessing.html\n",
            "Please also refer to the documentation for alternative solver options:\n",
            "    https://scikit-learn.org/stable/modules/linear_model.html#logistic-regression\n",
            "  n_iter_i = _check_optimize_result(\n",
            "/usr/local/lib/python3.9/dist-packages/sklearn/linear_model/_logistic.py:458: ConvergenceWarning: lbfgs failed to converge (status=1):\n",
            "STOP: TOTAL NO. of ITERATIONS REACHED LIMIT.\n",
            "\n",
            "Increase the number of iterations (max_iter) or scale the data as shown in:\n",
            "    https://scikit-learn.org/stable/modules/preprocessing.html\n",
            "Please also refer to the documentation for alternative solver options:\n",
            "    https://scikit-learn.org/stable/modules/linear_model.html#logistic-regression\n",
            "  n_iter_i = _check_optimize_result(\n",
            "/usr/local/lib/python3.9/dist-packages/sklearn/linear_model/_logistic.py:458: ConvergenceWarning: lbfgs failed to converge (status=1):\n",
            "STOP: TOTAL NO. of ITERATIONS REACHED LIMIT.\n",
            "\n",
            "Increase the number of iterations (max_iter) or scale the data as shown in:\n",
            "    https://scikit-learn.org/stable/modules/preprocessing.html\n",
            "Please also refer to the documentation for alternative solver options:\n",
            "    https://scikit-learn.org/stable/modules/linear_model.html#logistic-regression\n",
            "  n_iter_i = _check_optimize_result(\n",
            "/usr/local/lib/python3.9/dist-packages/sklearn/linear_model/_logistic.py:458: ConvergenceWarning: lbfgs failed to converge (status=1):\n",
            "STOP: TOTAL NO. of ITERATIONS REACHED LIMIT.\n",
            "\n",
            "Increase the number of iterations (max_iter) or scale the data as shown in:\n",
            "    https://scikit-learn.org/stable/modules/preprocessing.html\n",
            "Please also refer to the documentation for alternative solver options:\n",
            "    https://scikit-learn.org/stable/modules/linear_model.html#logistic-regression\n",
            "  n_iter_i = _check_optimize_result(\n"
          ]
        },
        {
          "output_type": "stream",
          "name": "stdout",
          "text": [
            "Best parameters : {'class_weight': {0: 0.19210526315789472, 1: 0.8078947368421052}}\n",
            "f1_score for train:  0.9463414634146342\n",
            "f1_score for validation:  0.9380530973451328\n",
            "f1_score for test:  0.9545454545454545\n",
            "Logistic confusion matrix: \n",
            "\n",
            " [[ 86  53]\n",
            " [  2 485]]\n",
            "Logstic precision: \n",
            "\n",
            " 0.9014869888475836\n",
            "Logstic recall: \n",
            "\n",
            " 0.9958932238193019\n",
            "Logistic confusion matrix: \n",
            "\n",
            " [[ 29  21]\n",
            " [  0 159]]\n",
            "Logstic precision: \n",
            "\n",
            " 0.8833333333333333\n",
            "Logstic recall: \n",
            "\n",
            " 1.0\n",
            "Logistic confusion matrix: \n",
            "\n",
            " [[ 25  16]\n",
            " [  0 168]]\n",
            "Logstic precision: \n",
            "\n",
            " 0.9130434782608695\n",
            "Logstic recall: \n",
            "\n",
            " 1.0\n"
          ]
        }
      ]
    },
    {
      "cell_type": "code",
      "source": [
        "loan_confusion = confusion_matrix(Y_test, Logistic.predict(X_test))\n",
        "\n",
        "sns.heatmap(loan_confusion , cmap = 'Blues_r', annot = True , square = True , fmt = 'd',\n",
        "           xticklabels = ['Predicted Pass', 'Predicted fail'],\n",
        "           yticklabels = ['Actually Pass', 'Actually Fail'])\n",
        "\n",
        "\n",
        "plt.xlabel('prediction')\n",
        "plt.ylabel('actual');"
      ],
      "metadata": {
        "colab": {
          "base_uri": "https://localhost:8080/",
          "height": 279
        },
        "id": "XfxLPo6QkAVt",
        "outputId": "47ce2eba-9e4b-4624-9f49-6d3749ed0266"
      },
      "execution_count": null,
      "outputs": [
        {
          "output_type": "display_data",
          "data": {
            "text/plain": [
              "<Figure size 432x288 with 2 Axes>"
            ],
            "image/png": "[encoded data removed]"
          },
          "metadata": {
            "needs_background": "light"
          }
        }
      ]
    },
    {
      "cell_type": "markdown",
      "source": [
        "Algorithm 2: Random Forest"
      ],
      "metadata": {
        "id": "yGa4P0Xsktmb"
      }
    },
    {
      "cell_type": "code",
      "source": [
        "from sklearn.ensemble import RandomForestRegressor\n",
        "from sklearn.model_selection import GridSearchCV\n",
        "from sklearn.ensemble import RandomForestClassifier, ExtraTreesClassifier, VotingClassifier\n",
        "from sklearn.metrics import precision_score, recall_score, precision_recall_curve,f1_score, fbeta_score"
      ],
      "metadata": {
        "id": "KN5r2i_VmPAb"
      },
      "execution_count": null,
      "outputs": []
    },
    {
      "cell_type": "code",
      "source": [
        "from sklearn.ensemble import RandomForestRegressor\n",
        "from sklearn.model_selection import GridSearchCV"
      ],
      "metadata": {
        "id": "sc2PrWWfmnBO"
      },
      "execution_count": null,
      "outputs": []
    },
    {
      "cell_type": "code",
      "source": [
        "Random_Forest = RandomForestClassifier(n_estimators=15 , random_state=10,**grid_result.best_params_)\n",
        "Random_Forest.fit(X_train, Y_train)"
      ],
      "metadata": {
        "id": "ly0dh_OZnS2v",
        "outputId": "ee18739f-8c4f-41d5-8e5c-99865fb842a5",
        "colab": {
          "base_uri": "https://localhost:8080/",
          "height": 109
        }
      },
      "execution_count": null,
      "outputs": [
        {
          "output_type": "execute_result",
          "data": {
            "text/plain": [
              "RandomForestClassifier(class_weight={0: 0.19210526315789472,\n",
              "                                     1: 0.8078947368421052},\n",
              "                       n_estimators=15, random_state=10)"
            ],
            "text/html": [
              "<style>#sk-container-id-1 {color: black;background-color: white;}#sk-container-id-1 pre{padding: 0;}#sk-container-id-1 div.sk-toggleable {background-color: white;}#sk-container-id-1 label.sk-toggleable__label {cursor: pointer;display: block;width: 100%;margin-bottom: 0;padding: 0.3em;box-sizing: border-box;text-align: center;}#sk-container-id-1 label.sk-toggleable__label-arrow:before {content: \"▸\";float: left;margin-right: 0.25em;color: #696969;}#sk-container-id-1 label.sk-toggleable__label-arrow:hover:before {color: black;}#sk-container-id-1 div.sk-estimator:hover label.sk-toggleable__label-arrow:before {color: black;}#sk-container-id-1 div.sk-toggleable__content {max-height: 0;max-width: 0;overflow: hidden;text-align: left;background-color: #f0f8ff;}#sk-container-id-1 div.sk-toggleable__content pre {margin: 0.2em;color: black;border-radius: 0.25em;background-color: #f0f8ff;}#sk-container-id-1 input.sk-toggleable__control:checked~div.sk-toggleable__content {max-height: 200px;max-width: 100%;overflow: auto;}#sk-container-id-1 input.sk-toggleable__control:checked~label.sk-toggleable__label-arrow:before {content: \"▾\";}#sk-container-id-1 div.sk-estimator input.sk-toggleable__control:checked~label.sk-toggleable__label {background-color: #d4ebff;}#sk-container-id-1 div.sk-label input.sk-toggleable__control:checked~label.sk-toggleable__label {background-color: #d4ebff;}#sk-container-id-1 input.sk-hidden--visually {border: 0;clip: rect(1px 1px 1px 1px);clip: rect(1px, 1px, 1px, 1px);height: 1px;margin: -1px;overflow: hidden;padding: 0;position: absolute;width: 1px;}#sk-container-id-1 div.sk-estimator {font-family: monospace;background-color: #f0f8ff;border: 1px dotted black;border-radius: 0.25em;box-sizing: border-box;margin-bottom: 0.5em;}#sk-container-id-1 div.sk-estimator:hover {background-color: #d4ebff;}#sk-container-id-1 div.sk-parallel-item::after {content: \"\";width: 100%;border-bottom: 1px solid gray;flex-grow: 1;}#sk-container-id-1 div.sk-label:hover label.sk-toggleable__label {background-color: #d4ebff;}#sk-container-id-1 div.sk-serial::before {content: \"\";position: absolute;border-left: 1px solid gray;box-sizing: border-box;top: 0;bottom: 0;left: 50%;z-index: 0;}#sk-container-id-1 div.sk-serial {display: flex;flex-direction: column;align-items: center;background-color: white;padding-right: 0.2em;padding-left: 0.2em;position: relative;}#sk-container-id-1 div.sk-item {position: relative;z-index: 1;}#sk-container-id-1 div.sk-parallel {display: flex;align-items: stretch;justify-content: center;background-color: white;position: relative;}#sk-container-id-1 div.sk-item::before, #sk-container-id-1 div.sk-parallel-item::before {content: \"\";position: absolute;border-left: 1px solid gray;box-sizing: border-box;top: 0;bottom: 0;left: 50%;z-index: -1;}#sk-container-id-1 div.sk-parallel-item {display: flex;flex-direction: column;z-index: 1;position: relative;background-color: white;}#sk-container-id-1 div.sk-parallel-item:first-child::after {align-self: flex-end;width: 50%;}#sk-container-id-1 div.sk-parallel-item:last-child::after {align-self: flex-start;width: 50%;}#sk-container-id-1 div.sk-parallel-item:only-child::after {width: 0;}#sk-container-id-1 div.sk-dashed-wrapped {border: 1px dashed gray;margin: 0 0.4em 0.5em 0.4em;box-sizing: border-box;padding-bottom: 0.4em;background-color: white;}#sk-container-id-1 div.sk-label label {font-family: monospace;font-weight: bold;display: inline-block;line-height: 1.2em;}#sk-container-id-1 div.sk-label-container {text-align: center;}#sk-container-id-1 div.sk-container {/* jupyter's `normalize.less` sets `[hidden] { display: none; }` but bootstrap.min.css set `[hidden] { display: none !important; }` so we also need the `!important` here to be able to override the default hidden behavior on the sphinx rendered scikit-learn.org. See: https://github.com/scikit-learn/scikit-learn/issues/21755 */display: inline-block !important;position: relative;}#sk-container-id-1 div.sk-text-repr-fallback {display: none;}</style><div id=\"sk-container-id-1\" class=\"sk-top-container\"><div class=\"sk-text-repr-fallback\"><pre>RandomForestClassifier(class_weight={0: 0.19210526315789472,\n",
              "                                     1: 0.8078947368421052},\n",
              "                       n_estimators=15, random_state=10)</pre><b>In a Jupyter environment, please rerun this cell to show the HTML representation or trust the notebook. <br />On GitHub, the HTML representation is unable to render, please try loading this page with nbviewer.org.</b></div><div class=\"sk-container\" hidden><div class=\"sk-item\"><div class=\"sk-estimator sk-toggleable\"><input class=\"sk-toggleable__control sk-hidden--visually\" id=\"sk-estimator-id-1\" type=\"checkbox\" checked><label for=\"sk-estimator-id-1\" class=\"sk-toggleable__label sk-toggleable__label-arrow\">RandomForestClassifier</label><div class=\"sk-toggleable__content\"><pre>RandomForestClassifier(class_weight={0: 0.19210526315789472,\n",
              "                                     1: 0.8078947368421052},\n",
              "                       n_estimators=15, random_state=10)</pre></div></div></div></div></div>"
            ]
          },
          "metadata": {},
          "execution_count": 29
        }
      ]
    },
    {
      "cell_type": "code",
      "source": [
        "\n",
        "\n",
        "weights = np.linspace(0.05, 0.95, 20)\n",
        "\n",
        "gsc = GridSearchCV(\n",
        "    estimator=RandomForestClassifier(),\n",
        "    param_grid={\n",
        "        'class_weight': [{0: x, 1: 1.0-x} for x in weights]\n",
        "    },\n",
        "    scoring='f1',\n",
        "    cv=3\n",
        ")\n",
        "grid_result = gsc.fit(X_train , Y_train)\n",
        "\n",
        "\n",
        "print(\"Best parameters : %s\" % grid_result.best_params_)\n",
        "print('f1_score for training: ',f1_score(Y_train, Random_Forest.predict(X_train)))\n",
        "print('f1_score for validation: ',f1_score(Random_Forest.predict(X_val), Y_val))\n",
        "print('f1_score for test: ',f1_score(Random_Forest.predict(X_test), Y_test))\n",
        "print(\"Random_Forest precision: \\n\\n\", precision_score(Y_train, Random_Forest.predict(X_train)))\n",
        "print(\"Random_Forest precision: \\n\\n\", precision_score(Y_val, Random_Forest.predict(X_val)))\n",
        "print(\"Random_Forest precision: \\n\\n\", precision_score(Y_test, Random_Forest.predict(X_test)))\n",
        "\n",
        "print(\"Random_Forest recall: \\n\\n\", recall_score(Y_train, Random_Forest.predict(X_train)))\n",
        "print(\"Random_Forest recall: \\n\\n\", recall_score(Y_val, Random_Forest.predict(X_val)))\n",
        "print(\"Random_Forest recall: \\n\\n\", recall_score(Y_test, Random_Forest.predict(X_test)))\n",
        "\n"
      ],
      "metadata": {
        "colab": {
          "base_uri": "https://localhost:8080/"
        },
        "id": "QQdQxPI4kwII",
        "outputId": "9493b657-891c-4820-9c98-fce64bba0278"
      },
      "execution_count": null,
      "outputs": [
        {
          "output_type": "stream",
          "name": "stdout",
          "text": [
            "Best parameters : {'class_weight': {0: 0.5710526315789474, 1: 0.42894736842105263}}\n",
            "f1_score for training:  0.997946611909651\n",
            "f1_score for validation:  0.9473684210526315\n",
            "f1_score for test:  0.9557522123893805\n",
            "Random_Forest precision: \n",
            "\n",
            " 0.997946611909651\n",
            "Random_Forest precision: \n",
            "\n",
            " 0.9329268292682927\n",
            "Random_Forest precision: \n",
            "\n",
            " 0.9473684210526315\n",
            "Random_Forest recall: \n",
            "\n",
            " 0.997946611909651\n",
            "Random_Forest recall: \n",
            "\n",
            " 0.9622641509433962\n",
            "Random_Forest recall: \n",
            "\n",
            " 0.9642857142857143\n"
          ]
        }
      ]
    },
    {
      "cell_type": "code",
      "source": [
        "loan_confusion = confusion_matrix(Y_test, Random_Forest.predict(X_test))\n",
        "sns.heatmap(loan_confusion , cmap = 'Blues_r', annot = True , square = True , fmt = 'd',\n",
        "           xticklabels = ['Predicted Pass', 'Predicted fail'],\n",
        "           yticklabels = ['Actually Pass', 'Actually Fail'])\n",
        "plt.xlabel('prediction')\n",
        "plt.ylabel('actual');"
      ],
      "metadata": {
        "id": "M0rECGcTmCL2",
        "colab": {
          "base_uri": "https://localhost:8080/",
          "height": 281
        },
        "outputId": "983b876f-a425-4d8f-d710-393b13d613a7"
      },
      "execution_count": null,
      "outputs": [
        {
          "output_type": "display_data",
          "data": {
            "text/plain": [
              "<Figure size 432x288 with 2 Axes>"
            ],
            "image/png": "[encoded data removed]"
          },
          "metadata": {
            "needs_background": "light"
          }
        }
      ]
    },
    {
      "cell_type": "markdown",
      "source": [
        "**Algorithm 3 :Support Vector Machine**"
      ],
      "metadata": {
        "id": "gIKzE3KZ7NSs"
      }
    },
    {
      "cell_type": "code",
      "source": [
        "X = DFS.drop('Pass', axis=1)\n",
        "y = DFS['Pass']\n",
        "X_train, X_test, y_train, y_test = train_test_split(X, y, test_size=0.2, random_state=1, stratify=y)"
      ],
      "metadata": {
        "id": "2FH-NsqBjPGx"
      },
      "execution_count": null,
      "outputs": []
    },
    {
      "cell_type": "code",
      "source": [
        "sc = StandardScaler()\n",
        "sc.fit(X_train)\n",
        "X_train_std = sc.transform(X_train)\n",
        "X_test_std = sc.transform(X_test)\n",
        "svc = SVC(C=1.0, random_state=1, kernel='linear')\n",
        "svc.fit(X_train_std, y_train)\n",
        "svc = SVC(C=1.0, random_state=1, kernel='linear')\n",
        "svc.fit(X_train_std, y_train)\n",
        "y_predict = svc.predict(X_test_std)\n",
        "print(\"Accuracy score %.3f\" %metrics.accuracy_score(y_test, y_predict))"
      ],
      "metadata": {
        "colab": {
          "base_uri": "https://localhost:8080/"
        },
        "id": "Z9FJgNhpHYeY",
        "outputId": "c1900f9d-e6d2-4e3c-982b-2d7d76431104"
      },
      "execution_count": null,
      "outputs": [
        {
          "output_type": "stream",
          "name": "stdout",
          "text": [
            "Accuracy score 0.943\n"
          ]
        }
      ]
    },
    {
      "cell_type": "code",
      "source": [
        "loan_confusion = confusion_matrix(y_test, y_predict)\n",
        "\n",
        "sns.heatmap(loan_confusion , cmap = 'Blues_r', annot = True , square = True , fmt = 'd',\n",
        "           xticklabels = ['Predicted Pass', 'Predicted fail'],\n",
        "           yticklabels = ['Actually Pass', 'Actually Fail'])\n",
        "\n",
        "\n",
        "plt.xlabel('prediction')\n",
        "plt.ylabel('actual');"
      ],
      "metadata": {
        "colab": {
          "base_uri": "https://localhost:8080/",
          "height": 279
        },
        "id": "Yslwi4lwIdJ_",
        "outputId": "4ab991ed-ae4a-4f77-e370-0bd996e20cba"
      },
      "execution_count": null,
      "outputs": [
        {
          "output_type": "display_data",
          "data": {
            "text/plain": [
              "<Figure size 432x288 with 2 Axes>"
            ],
            "image/png": "[encoded data removed]"
          },
          "metadata": {
            "needs_background": "light"
          }
        }
      ]
    },
    {
      "cell_type": "code",
      "source": [
        "#testing a record fom user \n",
        "import os \n",
        "import pickle \n",
        "import numpy as np \n",
        "import pandas as pd \n",
        "import matplotlib.pyplot as plt \n",
        "import seaborn as sns \n",
        "import pandas.util.testing as tm\n",
        "\n",
        "#function to chose if wat to test a new record or Exit \n",
        "\n",
        "def userChoice():\n",
        "  os.system('Clear')\n",
        "  print(\"==============Students Pass/fail Predication ===============\")\n",
        "  print(\"(1) Check a new record of  a student data. \")\n",
        "  print(\"(2) Exit.\")\n",
        "  print(\"====================================================\")\n",
        "  userInput = input(\"What you want to do check 1 Exit 2 ?\")\n",
        "\n",
        "  return userInput\n",
        "\n",
        "def Exit():\n",
        "  try: \n",
        "     print (\"Thank you.\") \n",
        "  except Exception as e:\n",
        "    print(\"something went wrong.\")\n",
        "    print(e)\n",
        "\n",
        "\n",
        "#Function to handle a new record \n",
        "def EnterRecord(): \n",
        " \n",
        "\n",
        "  age = input(\"Enter age:\") \n",
        "  Medu = input(\"Enter Medu:\") \n",
        "  Fedu = input(\"Enter Fedu: \") \n",
        "  traveltime= input(\"Enter traveltime: \") \n",
        "  studytime= input(\"Enter studytime:\")\n",
        "  famrel = input(\"Enter famrel:\")\n",
        "  freetime= input(\"Enter freetime:\")\n",
        "  goout= input(\"Enter goout: \")\n",
        "  health= input(\"Enter health: \") \n",
        "  absences = input(\"Enter absences: \")\n",
        "  failures = input(\"Enter failures: \")\n",
        "  G1= input(\"Enter G1: \")\n",
        "  G2= input(\"Enter G2: \")\n",
        "\n",
        "  X= df.iloc[:,0:13].values\n",
        "  Y= df.iloc[:,1].values\n",
        "  from sklearn.ensemble import RandomForestClassifier\n",
        "  clf = RandomForestClassifier(n_estimators = 13 ,criterion='entropy', random_state=0)\n",
        "  clf.fit(X,Y)\n",
        "  result = clf.predict([[age,Medu,Fedu,traveltime,studytime,famrel,freetime,goout,health,absences,failures,G1,G2]])\n",
        "  print(result)\n",
        "  if result == 1:\n",
        "    print(\"Prediction: pass\")\n",
        "  elif result == 2:\n",
        "    print(\"Prediction: fail\")\n",
        "\n",
        "# Run the porgram \n",
        "choice = 5\n",
        "while choice != '2':\n",
        "  choice = userChoice()\n",
        "  if choice == '1':\n",
        "     EnterRecord() \n",
        "  elif choice == '2':\n",
        "    Exit()\n",
        "    print(\"see you later with a new data record \")\n",
        "  else: \n",
        "    print(\"\\n Not a correct choice.\")"
      ],
      "metadata": {
        "colab": {
          "base_uri": "https://localhost:8080/"
        },
        "id": "BlXq3SmEKR1J",
        "outputId": "3001aa3c-c8f2-4f75-c9cc-8147b4dfb5e0"
      },
      "execution_count": null,
      "outputs": [
        {
          "output_type": "stream",
          "name": "stdout",
          "text": [
            "==============Students Pass/fail Predication ===============\n",
            "(1) Check a new record of  a student data. \n",
            "(2) Exit.\n",
            "====================================================\n",
            "What you want to do check 1 Exit 2 ?2\n",
            "Thank you.\n",
            "see you later with a new data record \n"
          ]
        }
      ]
    }
  ]
}